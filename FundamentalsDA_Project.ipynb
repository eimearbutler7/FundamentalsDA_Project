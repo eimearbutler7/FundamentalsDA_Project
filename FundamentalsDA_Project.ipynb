{
 "cells": [
  {
   "cell_type": "markdown",
   "metadata": {},
   "source": [
    "# Fundamentals of Data Analysis Project\n",
    "## Eimear Butler, November 2018, Semester 2"
   ]
  },
  {
   "cell_type": "markdown",
   "metadata": {},
   "source": [
    "### Problem statement"
   ]
  },
  {
   "cell_type": "markdown",
   "metadata": {},
   "source": [
    "The box plot is common in data analysis for investigating individual numerical variables.\n",
    "\n",
    "In this project, you will investigate and explain box plots and their uses. The boxplot function from the Python package matplotlib.pyplot can be used to create box plots.\n",
    "\n",
    "In your notebook, you should:\n",
    "- Summarise the history of the box plot and situations in which it used.\n",
    "- Demonstrate the use of the box plot using data of your choosing.\n",
    "- Explain any relevant terminology such as the terms quartile and percentile.\n",
    "- Compare the box plot to alternatives.\n",
    "\n"
   ]
  },
  {
   "cell_type": "markdown",
   "metadata": {},
   "source": [
    "NOTE: The order of the assigned tasks have been rearranged to help the flow of the answer: \n",
    "\n",
    "## 1. Explain any relevant terminology such as the terms quartile and percentile"
   ]
  },
  {
   "cell_type": "markdown",
   "metadata": {},
   "source": [
    "- **BOXPLOT**: dictionary.com defines it as \"a graphic representation of a distribution by a rectangle, the ends of which mark the maximum and minimum values, and in which the median and first and third quartiles are marked by lines parallel to the ends.\" \n",
    "\n",
    "\n",
    "- **MINIMUM**: the lowest data value\n",
    "\n",
    "\n",
    "- **MAXIMUM**: the highest data value\n",
    "\n",
    "\n",
    "- **MEDIAN<sup>1</sup>**: the \"middle\" data point based on the number of data points above it and below it e.g. the median of the following data set is 3 as it is the middle value whent he list is arranged in increasing order  [1,2,3,6,6] NOTE: Should the median be between 2 numbers e.g. [1, 2, 2, 3, 6, 6], the average of 2 and 3 is therefore the median i.e. 2.5\n",
    "\n",
    "\n",
    "- **1st QUARTILE<sup>1</sup> (Q1)**: is the median of the data values between the lowest data value and the median (usually not including the median itself) \n",
    "\n",
    "\n",
    "- **3rd QUARTILE<sup>1</sup> (Q3)**: is the median of the data values between the highest data value and the median (usually not including the median itself)\n",
    "\n",
    "\n",
    "- **INTERQUARTILE RANGE<sup>3</sup>**: the range of values between the 1st Quartile and the 3rd Quartile. The length of the box therefore represents the interquartile range.\n",
    "\n",
    "\n",
    "- **OUTLIERS<sup>3</sup>**: A value that is at the extreme end of a data set, which is affecting the overall dataset as it is either very small or large. In general, any data not included between the whiskers or on the box, is plotted as an outlier with an asterix symbol. \n",
    "\n",
    "\n",
    "- **FIVE-NUMBER SUMMARY**<sup>4</sup>: a summary term for the minimum, maximum, median, Q1 and Q3. \n",
    "\n",
    "The terms are best displayed visually below<sup>2</sup>\n",
    "\n",
    "![alt text](https://pro.arcgis.com/en/pro-app/help/analysis/geoprocessing/charts/GUID-0E2C3730-C535-40CD-8152-80D794A996A7-web.png)\n",
    "\n"
   ]
  },
  {
   "cell_type": "markdown",
   "metadata": {},
   "source": [
    "## 2. Summarise the history of the box plot and situations in which it used"
   ]
  },
  {
   "cell_type": "markdown",
   "metadata": {},
   "source": [
    "The box plot is a useful method of representing data where you wish to visualise the spread of data within a population. A standard boxplot also highlights the median of the data as well as the upper and lower quartiles <sup>1</sup>. The box part of the plot captures the data points between Q1 and Q3 i.e. the middle 50% of the data values. While the \"whiskers\" at either end aim to show the range of the lowest and highest quarters of data values. This is why the boxplot is also commonly known as the Box and Whisker Plot. The finished product allows the user to see where the bulk of the data is and how wide a range it actually extends to. \n",
    "\n",
    "The \"boxplot\" title is credited to John Tukey who popularised it in the 1970's and they are now considered a \"standard statistical graph\" across numerous applications<sup>5</sup>. On their own they have some functionality but really excel when comparing arross multiple data groups. \n",
    "\n",
    "More recently, the boxplot has been adapted and added to, forming new interpretations of Tukey's original plot. Two examples are the notched, variable width graphs. The variable width boxblot aims to adapt the width of the boxplot to the proportion of the population while the notched plot aims to integrate the confidence levels of the median into the plot. \n",
    "\n",
    "The use of box plots for normally distributed data is also useful where the quartiles and their known values can be aligned to the bell shaped curve. See below<sup>7</sup> the parallel of the boxplots \"middle 50%\" interquartile range with the normal distribution standard deviation and %population values. \n",
    "\n",
    "<img src='https://www.researchgate.net/profile/Luisnando_Ochoa/publication/283569547/figure/fig5/AS:391452027834382@1470340844812/Box-plot-vs-normal-PDF-By-examining-the-box-plots-key-differences-and-equivalencies.png' width=\"600\" height=\"350\">\n",
    "\n",
    "\n",
    "\n",
    "\n"
   ]
  },
  {
   "cell_type": "markdown",
   "metadata": {},
   "source": [
    "## 3. Demonstrate the use of the box plot using data of your choosing"
   ]
  },
  {
   "cell_type": "markdown",
   "metadata": {},
   "source": [
    "The following data set comes from UNICEF where they make a number of data sets freely available to the public on their website. This data is a set with 17,727 rows where the columns have been reduced to simplify the data and to focus on certain atributes. \n",
    "\n",
    "The data used relates to the immunisation coverage for countries from the late 1970's up to 2016. \n",
    "\n",
    "*NOTE: not all countries have data for every year.*  "
   ]
  },
  {
   "cell_type": "code",
   "execution_count": 185,
   "metadata": {
    "scrolled": true
   },
   "outputs": [
    {
     "data": {
      "text/html": [
       "<div>\n",
       "<style scoped>\n",
       "    .dataframe tbody tr th:only-of-type {\n",
       "        vertical-align: middle;\n",
       "    }\n",
       "\n",
       "    .dataframe tbody tr th {\n",
       "        vertical-align: top;\n",
       "    }\n",
       "\n",
       "    .dataframe thead th {\n",
       "        text-align: right;\n",
       "    }\n",
       "</style>\n",
       "<table border=\"1\" class=\"dataframe\">\n",
       "  <thead>\n",
       "    <tr style=\"text-align: right;\">\n",
       "      <th></th>\n",
       "      <th>cohortYear</th>\n",
       "      <th>coverage</th>\n",
       "    </tr>\n",
       "  </thead>\n",
       "  <tbody>\n",
       "    <tr>\n",
       "      <th>count</th>\n",
       "      <td>26435.000000</td>\n",
       "      <td>26423.000000</td>\n",
       "    </tr>\n",
       "    <tr>\n",
       "      <th>mean</th>\n",
       "      <td>2003.938226</td>\n",
       "      <td>61.357643</td>\n",
       "    </tr>\n",
       "    <tr>\n",
       "      <th>std</th>\n",
       "      <td>8.791207</td>\n",
       "      <td>28.950799</td>\n",
       "    </tr>\n",
       "    <tr>\n",
       "      <th>min</th>\n",
       "      <td>1977.000000</td>\n",
       "      <td>0.000000</td>\n",
       "    </tr>\n",
       "    <tr>\n",
       "      <th>25%</th>\n",
       "      <td>1997.000000</td>\n",
       "      <td>37.500000</td>\n",
       "    </tr>\n",
       "    <tr>\n",
       "      <th>50%</th>\n",
       "      <td>2006.000000</td>\n",
       "      <td>67.900000</td>\n",
       "    </tr>\n",
       "    <tr>\n",
       "      <th>75%</th>\n",
       "      <td>2011.000000</td>\n",
       "      <td>87.100000</td>\n",
       "    </tr>\n",
       "    <tr>\n",
       "      <th>max</th>\n",
       "      <td>2016.000000</td>\n",
       "      <td>100.000000</td>\n",
       "    </tr>\n",
       "  </tbody>\n",
       "</table>\n",
       "</div>"
      ],
      "text/plain": [
       "         cohortYear      coverage\n",
       "count  26435.000000  26423.000000\n",
       "mean    2003.938226     61.357643\n",
       "std        8.791207     28.950799\n",
       "min     1977.000000      0.000000\n",
       "25%     1997.000000     37.500000\n",
       "50%     2006.000000     67.900000\n",
       "75%     2011.000000     87.100000\n",
       "max     2016.000000    100.000000"
      ]
     },
     "execution_count": 185,
     "metadata": {},
     "output_type": "execute_result"
    }
   ],
   "source": [
    "import matplotlib.pyplot as plt\n",
    "import pandas as pd\n",
    "import numpy as np\n",
    "\n",
    "#Source: https://data.unicef.org/resources/dataset/immunization/\n",
    "df = pd.read_csv(\"https://raw.githubusercontent.com/eimearbutler7/FundamentalsDA_Project/master/immunization_coverage_survey_data-2.csv\") #import the data into a pandas datdframe\n",
    "df.describe(exclude=[np.object]) #describe the dataset in a summary table #source: https://pandas.pydata.org/pandas-docs/stable/generated/pandas.DataFrame.describe.html"
   ]
  },
  {
   "cell_type": "markdown",
   "metadata": {},
   "source": [
    "This is a big data set and in order to establish criteria to pull data to use in my boxplots, I use create a new dataframe \"df1\" with the more specific data I require."
   ]
  },
  {
   "cell_type": "code",
   "execution_count": 186,
   "metadata": {
    "scrolled": false
   },
   "outputs": [
    {
     "data": {
      "text/html": [
       "<div>\n",
       "<style scoped>\n",
       "    .dataframe tbody tr th:only-of-type {\n",
       "        vertical-align: middle;\n",
       "    }\n",
       "\n",
       "    .dataframe tbody tr th {\n",
       "        vertical-align: top;\n",
       "    }\n",
       "\n",
       "    .dataframe thead th {\n",
       "        text-align: right;\n",
       "    }\n",
       "</style>\n",
       "<table border=\"1\" class=\"dataframe\">\n",
       "  <thead>\n",
       "    <tr style=\"text-align: right;\">\n",
       "      <th></th>\n",
       "      <th>cohortYear</th>\n",
       "      <th>coverage</th>\n",
       "    </tr>\n",
       "  </thead>\n",
       "  <tbody>\n",
       "    <tr>\n",
       "      <th>count</th>\n",
       "      <td>30.000000</td>\n",
       "      <td>30.000000</td>\n",
       "    </tr>\n",
       "    <tr>\n",
       "      <th>mean</th>\n",
       "      <td>2000.600000</td>\n",
       "      <td>62.656667</td>\n",
       "    </tr>\n",
       "    <tr>\n",
       "      <th>std</th>\n",
       "      <td>7.636573</td>\n",
       "      <td>16.348230</td>\n",
       "    </tr>\n",
       "    <tr>\n",
       "      <th>min</th>\n",
       "      <td>1989.000000</td>\n",
       "      <td>25.900000</td>\n",
       "    </tr>\n",
       "    <tr>\n",
       "      <th>25%</th>\n",
       "      <td>1996.000000</td>\n",
       "      <td>54.300000</td>\n",
       "    </tr>\n",
       "    <tr>\n",
       "      <th>50%</th>\n",
       "      <td>1999.500000</td>\n",
       "      <td>66.550000</td>\n",
       "    </tr>\n",
       "    <tr>\n",
       "      <th>75%</th>\n",
       "      <td>2005.000000</td>\n",
       "      <td>72.950000</td>\n",
       "    </tr>\n",
       "    <tr>\n",
       "      <th>max</th>\n",
       "      <td>2014.000000</td>\n",
       "      <td>92.600000</td>\n",
       "    </tr>\n",
       "  </tbody>\n",
       "</table>\n",
       "</div>"
      ],
      "text/plain": [
       "        cohortYear   coverage\n",
       "count    30.000000  30.000000\n",
       "mean   2000.600000  62.656667\n",
       "std       7.636573  16.348230\n",
       "min    1989.000000  25.900000\n",
       "25%    1996.000000  54.300000\n",
       "50%    1999.500000  66.550000\n",
       "75%    2005.000000  72.950000\n",
       "max    2014.000000  92.600000"
      ]
     },
     "execution_count": 186,
     "metadata": {},
     "output_type": "execute_result"
    }
   ],
   "source": [
    "#I want to filter the data in accordance to the vaccine administered and location\n",
    "df1 = df.loc[(df['vaccine'] == 'Pol3') & (df['ISO3'] == 'IND')] #soucre: https://stackoverflow.com/questions/22086116/how-do-you-filter-pandas-dataframes-by-multiple-columns\n",
    "\n",
    "#now I have the % coverage data for the Pol3 vaccine in India \n",
    "\n",
    "df1.describe(exclude=[np.object]) #produce a descriptive summary of the new dataframe  "
   ]
  },
  {
   "cell_type": "markdown",
   "metadata": {},
   "source": [
    "Next I want to pull that dats into a boxplot so I can visualise the spread of coverage compliance since 1989."
   ]
  },
  {
   "cell_type": "code",
   "execution_count": 187,
   "metadata": {},
   "outputs": [
    {
     "data": {
      "text/plain": [
       "{'whiskers': [<matplotlib.lines.Line2D at 0x1c0772e8>,\n",
       "  <matplotlib.lines.Line2D at 0x1c077630>],\n",
       " 'caps': [<matplotlib.lines.Line2D at 0x1c077978>,\n",
       "  <matplotlib.lines.Line2D at 0x1c077cc0>],\n",
       " 'boxes': [<matplotlib.lines.Line2D at 0x1c077198>],\n",
       " 'medians': [<matplotlib.lines.Line2D at 0x1c07f048>],\n",
       " 'fliers': [<matplotlib.lines.Line2D at 0x1c07f6d8>],\n",
       " 'means': [<matplotlib.lines.Line2D at 0x1c07f390>]}"
      ]
     },
     "execution_count": 187,
     "metadata": {},
     "output_type": "execute_result"
    },
    {
     "data": {
      "image/png": "[encoded data removed]",
      "text/plain": [
       "<Figure size 432x288 with 1 Axes>"
      ]
     },
     "metadata": {},
     "output_type": "display_data"
    }
   ],
   "source": [
    "c_array = df1[\"coverage\"].values #convert the dataframe column back into an array so it can be fed into a boxplot function\n",
    "plt.boxplot(c_array, 0, 'rs', 0, meanline=True, showmeans=True) #plot vaccine in a boxplot coverage to see spread of data over the years 2000 - 2013 \n",
    "\n",
    "#soucre: https://matplotlib.org/examples/pylab_examples/boxplot_demo.html"
   ]
  },
  {
   "cell_type": "markdown",
   "metadata": {},
   "source": [
    "The above boxplot is an example of the implementation of the most simple form of the boxplot. We can see that the figure of 25.9 has been determined to be an outlier and has been highlighted here in green. A green dotted line in the box also shows us where the mean of the sample lies. \n",
    "\n",
    "Lets compare the spread of coverage for other countries to the Indian data."
   ]
  },
  {
   "cell_type": "code",
   "execution_count": 188,
   "metadata": {},
   "outputs": [
    {
     "data": {
      "image/png": "[encoded data removed]",
      "text/plain": [
       "<Figure size 432x288 with 1 Axes>"
      ]
     },
     "metadata": {},
     "output_type": "display_data"
    }
   ],
   "source": [
    "df2 = df.loc[(df['vaccine'] == 'Pol3') & (df['ISO3'] == 'IRQ')] #lets now pull the same data for Iraq and compare\n",
    "c_array2 = df2[\"coverage\"].values #convert the dataframe column back into an array so it can be fed into a boxplot function\n",
    "df3 = df.loc[(df['vaccine'] == 'Pol3') & (df['ISO3'] == 'KEN')] #Lets also pull some for Kenya and add it to the overall plot\n",
    "c_array3 = df3[\"coverage\"].values #convert the dataframe column back into an array so it can be fed into a boxplot function\n",
    "\n",
    "\n",
    "plt.boxplot([c_array, c_array2, c_array3], 0, 'rs', 0) #plot vaccine in a boxplot coverage to see spread of data over the years 2000 - 2013 \n",
    "\n",
    "plt.show()"
   ]
  },
  {
   "cell_type": "markdown",
   "metadata": {},
   "source": [
    "The above box plots now allow us to compare vaccine coverage in Kenya (1), Iraq (2) and India (3) over time, including their median point and itnerquartile range. "
   ]
  },
  {
   "cell_type": "code",
   "execution_count": 189,
   "metadata": {},
   "outputs": [
    {
     "data": {
      "text/plain": [
       "{'whiskers': [<matplotlib.lines.Line2D at 0x1c144e48>,\n",
       "  <matplotlib.lines.Line2D at 0x1c14d1d0>,\n",
       "  <matplotlib.lines.Line2D at 0x1c1575c0>,\n",
       "  <matplotlib.lines.Line2D at 0x1c157908>,\n",
       "  <matplotlib.lines.Line2D at 0x1c161cf8>,\n",
       "  <matplotlib.lines.Line2D at 0x1c16c080>],\n",
       " 'caps': [<matplotlib.lines.Line2D at 0x1c14d518>,\n",
       "  <matplotlib.lines.Line2D at 0x1c14d860>,\n",
       "  <matplotlib.lines.Line2D at 0x1c157c50>,\n",
       "  <matplotlib.lines.Line2D at 0x1c157f98>,\n",
       "  <matplotlib.lines.Line2D at 0x1c16c3c8>,\n",
       "  <matplotlib.lines.Line2D at 0x1c16c710>],\n",
       " 'boxes': [<matplotlib.lines.Line2D at 0x1c144cf8>,\n",
       "  <matplotlib.lines.Line2D at 0x1c157240>,\n",
       "  <matplotlib.lines.Line2D at 0x1c161978>],\n",
       " 'medians': [<matplotlib.lines.Line2D at 0x1c14dba8>,\n",
       "  <matplotlib.lines.Line2D at 0x1c161320>,\n",
       "  <matplotlib.lines.Line2D at 0x1c16ca58>],\n",
       " 'fliers': [<matplotlib.lines.Line2D at 0x1c14def0>,\n",
       "  <matplotlib.lines.Line2D at 0x1c161668>,\n",
       "  <matplotlib.lines.Line2D at 0x1c16cda0>],\n",
       " 'means': []}"
      ]
     },
     "execution_count": 189,
     "metadata": {},
     "output_type": "execute_result"
    },
    {
     "data": {
      "image/png": "[encoded data removed]",
      "text/plain": [
       "<Figure size 432x288 with 1 Axes>"
      ]
     },
     "metadata": {},
     "output_type": "display_data"
    }
   ],
   "source": [
    "# the next plot we can show is a notched plot\n",
    "plt.boxplot([c_array, c_array2, c_array3], 1, 'rs', 0) #source: https://matplotlib.org/gallery/pyplots/boxplot_demo_pyplot.html#sphx-glr-gallery-pyplots-boxplot-demo-pyplot-py"
   ]
  },
  {
   "cell_type": "markdown",
   "metadata": {},
   "source": [
    "The notch is a very interesting addition to the box as it displays the confidence interval for the median. \n",
    "\n",
    "\n",
    "The following diagram<sup>6</sup> demonstrates this relationship: \n",
    "\n",
    "<img src='https://i.stack.imgur.com/urPEC.jpg' width=\"600\" height=\"350\">\n"
   ]
  },
  {
   "cell_type": "markdown",
   "metadata": {},
   "source": [
    "Changing whisker length and removal of outliers may also be required by the user and can be achieved as follows:"
   ]
  },
  {
   "cell_type": "code",
   "execution_count": 190,
   "metadata": {
    "scrolled": false
   },
   "outputs": [
    {
     "data": {
      "image/png": "[encoded data removed]",
      "text/plain": [
       "<Figure size 432x288 with 1 Axes>"
      ]
     },
     "metadata": {},
     "output_type": "display_data"
    }
   ],
   "source": [
    "fig, ax1 = plt.subplots() #plot the boxplot as subplots to allow the addition of labels below\n",
    "\n",
    "bp = plt.boxplot([c_array, c_array2, c_array3], 1, 'rs', 0, whis=0.75, showfliers=False) \n",
    "#The critical code here being the \"whis=0.75\" changing the length of the whiskers to 75% and \"showfliers=False\" removing the outliers \n",
    "\n",
    "ax1.set_title('Vaccine Coverage in 3 Countries') #set titles \n",
    "ax1.set_xlabel('Coverage') #set x label\n",
    "ax1.set_ylabel('Country')#set y label\n",
    "\n",
    "plt.show()\n"
   ]
  },
  {
   "cell_type": "markdown",
   "metadata": {},
   "source": [
    "## 4. Compare the box plot to alternatives"
   ]
  },
  {
   "cell_type": "markdown",
   "metadata": {},
   "source": [
    "A fundamental challenge with the boxplot is that it does not display density of the data well and therefore could be misleading.\n",
    "\n",
    "\n",
    "Here I wish to examine alternative plots to the simple boxplot that represents similar data in a different way.\n",
    "\n",
    "\n",
    "For example in the following dataset, the values are heavily weighted at the extreme ends of the set. "
   ]
  },
  {
   "cell_type": "code",
   "execution_count": 191,
   "metadata": {
    "scrolled": false
   },
   "outputs": [
    {
     "data": {
      "text/plain": [
       "{'whiskers': [<matplotlib.lines.Line2D at 0x1cbde3c8>,\n",
       "  <matplotlib.lines.Line2D at 0x1cbde710>],\n",
       " 'caps': [<matplotlib.lines.Line2D at 0x1cbdea58>,\n",
       "  <matplotlib.lines.Line2D at 0x1cbdeda0>],\n",
       " 'boxes': [<matplotlib.lines.Line2D at 0x1cbde278>],\n",
       " 'medians': [<matplotlib.lines.Line2D at 0x1cbe8128>],\n",
       " 'fliers': [<matplotlib.lines.Line2D at 0x1cbe8470>],\n",
       " 'means': []}"
      ]
     },
     "execution_count": 191,
     "metadata": {},
     "output_type": "execute_result"
    },
    {
     "data": {
      "image/png": "[encoded data removed]",
      "text/plain": [
       "<Figure size 432x288 with 1 Axes>"
      ]
     },
     "metadata": {},
     "output_type": "display_data"
    }
   ],
   "source": [
    "den = [2, 2, 2, 2, 2, 3, 4, 4, 5, 5, 6, 7, 7, 7, 8, 8, 8, 9, 11, 12, 12, 12, 12, 12, 12] #example dataset\n",
    "plt.boxplot(den, 0, 'rs', 0) #create a boxolot of this data    #Source: https://matplotlib.org/api/_as_gen/matplotlib.pyplot.boxplot.html"
   ]
  },
  {
   "cell_type": "markdown",
   "metadata": {},
   "source": [
    "This boxplot looks reasonably distributed but in fact, as wil will see on the next graph, a significant number of values are actually in the \"whiskers\".\n"
   ]
  },
  {
   "cell_type": "code",
   "execution_count": 192,
   "metadata": {
    "scrolled": true
   },
   "outputs": [
    {
     "data": {
      "text/plain": [
       "<matplotlib.axes._subplots.AxesSubplot at 0x1cc0cfd0>"
      ]
     },
     "execution_count": 192,
     "metadata": {},
     "output_type": "execute_result"
    },
    {
     "data": {
      "image/png": "[encoded data removed]",
      "text/plain": [
       "<Figure size 432x288 with 1 Axes>"
      ]
     },
     "metadata": {},
     "output_type": "display_data"
    }
   ],
   "source": [
    "import seaborn as sns #import seaborn functionality\n",
    "\n",
    "sns.boxplot(den) #use seaborn to create a boxplot similar to the above\n",
    "sns.swarmplot(den, color=\".25\") #have seaborn overlay a swarmplot that shows where the data points actually lie #source: https://seaborn.pydata.org/generated/seaborn.boxplot.html"
   ]
  },
  {
   "cell_type": "markdown",
   "metadata": {},
   "source": [
    "In the second plot we can now see that there are a density of data points at the end of each of the whiskers.\n",
    "\n",
    "I want to take the swarm plot further to use it on the vaccine coverage data to see it this adds to my overall understanding of the set. "
   ]
  },
  {
   "cell_type": "code",
   "execution_count": 193,
   "metadata": {
    "scrolled": true
   },
   "outputs": [
    {
     "data": {
      "text/plain": [
       "<matplotlib.axes._subplots.AxesSubplot at 0x1cc5ca58>"
      ]
     },
     "execution_count": 193,
     "metadata": {},
     "output_type": "execute_result"
    },
    {
     "data": {
      "image/png": "[encoded data removed]",
      "text/plain": [
       "<Figure size 432x288 with 1 Axes>"
      ]
     },
     "metadata": {},
     "output_type": "display_data"
    }
   ],
   "source": [
    "vaccines = [c_array, c_array2, c_array3] #group the vaccine data into a list\n",
    "sns.boxplot(data=vaccines) #use seaborn to create 3 boxplots from the 3 vaccine data lists\n",
    "sns.swarmplot(data=vaccines, color=\".25\") #again I wish to have a swarmplot overlayed on the boxplot. #source: https://seaborn.pydata.org/generated/seaborn.boxplot.html\n"
   ]
  },
  {
   "cell_type": "markdown",
   "metadata": {},
   "source": [
    "A BoxenPlot is another variation on the simple boxplot that is intended to show a greater level of detail regarding the data values outside of thise within the InterQuartile Range. The \"whisker\" are replaced by more boxes representing the size of the population as it extends out towards the maximum and minimum<sup>8</sup>.\n"
   ]
  },
  {
   "cell_type": "code",
   "execution_count": 194,
   "metadata": {
    "scrolled": true
   },
   "outputs": [
    {
     "name": "stderr",
     "output_type": "stream",
     "text": [
      "'c' argument looks like a single numeric RGB or RGBA sequence, which should be avoided as value-mapping will have precedence in case its length matches with 'x' & 'y'.  Please use a 2-D array with a single row if you really want to specify the same RGB or RGBA value for all points.\n"
     ]
    },
    {
     "data": {
      "text/plain": [
       "<matplotlib.axes._subplots.AxesSubplot at 0x1cdd08d0>"
      ]
     },
     "execution_count": 194,
     "metadata": {},
     "output_type": "execute_result"
    },
    {
     "data": {
      "image/png": "[encoded data removed]",
      "text/plain": [
       "<Figure size 432x288 with 1 Axes>"
      ]
     },
     "metadata": {},
     "output_type": "display_data"
    }
   ],
   "source": [
    "sns.boxenplot(c_array) #create boxen plot using Indian vaccine coverage data #source: https://seaborn.pydata.org/generated/seaborn.boxenplot.html\n"
   ]
  },
  {
   "cell_type": "markdown",
   "metadata": {},
   "source": [
    "Building on these plots, the violin plot is a useful and incresingly popular way to show the density of the population. You can see that the square box has been lost as the plot moves towards a shape that reflects This doesn't look  "
   ]
  },
  {
   "cell_type": "code",
   "execution_count": 195,
   "metadata": {},
   "outputs": [
    {
     "data": {
      "text/plain": [
       "<matplotlib.axes._subplots.AxesSubplot at 0x1ce389b0>"
      ]
     },
     "execution_count": 195,
     "metadata": {},
     "output_type": "execute_result"
    },
    {
     "data": {
      "image/png": "[encoded data removed]",
      "text/plain": [
       "<Figure size 432x288 with 1 Axes>"
      ]
     },
     "metadata": {},
     "output_type": "display_data"
    }
   ],
   "source": [
    "vaccines = [c_array, c_array2, c_array3] #group the vaccine data into a list\n",
    "sns.violinplot(x='ISO3', y='coverage', data=df1) #source: https://seaborn.pydata.org/generated/seaborn.boxplot.html\n"
   ]
  },
  {
   "cell_type": "code",
   "execution_count": 197,
   "metadata": {},
   "outputs": [
    {
     "data": {
      "text/plain": [
       "<matplotlib.axes._subplots.AxesSubplot at 0x1f568710>"
      ]
     },
     "execution_count": 197,
     "metadata": {},
     "output_type": "execute_result"
    },
    {
     "data": {
      "image/png": "[encoded data removed]",
      "text/plain": [
       "<Figure size 432x288 with 1 Axes>"
      ]
     },
     "metadata": {},
     "output_type": "display_data"
    }
   ],
   "source": [
    "#I want to filter the data to not be overloaded by it in the plot so I use the following to reduce it down somewhat\n",
    "\n",
    "df = df.loc[(df['vaccine'] == 'Pol3') & (df['cohortYear'] >= 2000) & df['ISO3'].str.contains(\"D\")] #soucre: https://stackoverflow.com/questions/22086116/how-do-you-filter-pandas-dataframes-by-multiple-columns\n",
    "# and soucre: https://stackoverflow.com/questions/11350770/pandas-dataframe-select-by-partial-string\n",
    "\n",
    "sns.violinplot(x='ISO3', y=\"coverage\", data=df, palette=\"muted\")"
   ]
  },
  {
   "cell_type": "markdown",
   "metadata": {},
   "source": [
    "## Conclusion"
   ]
  },
  {
   "cell_type": "markdown",
   "metadata": {},
   "source": [
    "In conclusion, the boxplot has become a staple resource for staticians across the board. Since the 70's, it has been developed into multiple forms each focusing on additional aspects in relation to confidence intervals of the median and distribution of data, particularly outside of the 50% represented within the box/interquartile range.\n",
    "\n",
    "\n",
    "Overall, Seaborn appears to have more functionlity with regards to box plots than matplotlib with regards to producing more complex and visually pleasing plots. \n",
    "\n",
    "\n",
    "As a result of this project, I am now very confortable employing the boxplot or suitable alternatives for future assignments. "
   ]
  },
  {
   "cell_type": "markdown",
   "metadata": {},
   "source": [
    "## References "
   ]
  },
  {
   "cell_type": "markdown",
   "metadata": {},
   "source": [
    "1. https://www.khanacademy.org/math/probability/data-distributions-a1/box--whisker-plots-a1/v/constructing-a-box-and-whisker-plot\n",
    "2. https://pro.arcgis.com/en/pro-app/help/analysis/geoprocessing/charts/box-plot.htm\n",
    "3. https://www.whatissixsigma.net/box-plot-diagram-to-identify-outliers/\n",
    "4. https://www.khanacademy.org/math/statistics-probability/summarizing-quantitative-data/box-whisker-plots/a/box-plot-review\n",
    "5. https://www.stata-journal.com/sjpdf.html?articlenum=gr0039\n",
    "6. https://stackoverflow.com/questions/38794406/why-is-matplotlibs-notched-boxplot-folding-back-on-itself\n",
    "7. https://www.researchgate.net/figure/Box-plot-vs-normal-PDF-By-examining-the-box-plots-key-differences-and-equivalencies_fig5_283569547\n",
    "8. https://vita.had.co.nz/papers/letter-value-plot.html"
   ]
  }
 ],
 "metadata": {
  "kernelspec": {
   "display_name": "Python 3",
   "language": "python",
   "name": "python3"
  },
  "language_info": {
   "codemirror_mode": {
    "name": "ipython",
    "version": 3
   },
   "file_extension": ".py",
   "mimetype": "text/x-python",
   "name": "python",
   "nbconvert_exporter": "python",
   "pygments_lexer": "ipython3",
   "version": "3.6.5"
  }
 },
 "nbformat": 4,
 "nbformat_minor": 2
}
