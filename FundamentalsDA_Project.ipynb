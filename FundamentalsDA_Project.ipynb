{
 "cells": [
  {
   "cell_type": "markdown",
   "metadata": {},
   "source": [
    "# Fundamentals of Data Analysis Project\n",
    "## Eimear Butler, November 2018, Semester 2"
   ]
  },
  {
   "cell_type": "markdown",
   "metadata": {},
   "source": [
    "### Problem statement"
   ]
  },
  {
   "cell_type": "markdown",
   "metadata": {},
   "source": [
    "The box plot is common in data analysis for investigating individual numerical variables.\n",
    "\n",
    "In this project, you will investigate and explain box plots and their uses. The boxplot function from the Python package matplotlib.pyplot can be used to create box plots.\n",
    "\n",
    "In your notebook, you should:\n",
    "- Summarise the history of the box plot and situations in which it used.\n",
    "- Demonstrate the use of the box plot using data of your choosing.\n",
    "- Explain any relevant terminology such as the terms quartile and percentile.\n",
    "- Compare the box plot to alternatives.\n",
    "\n"
   ]
  },
  {
   "cell_type": "markdown",
   "metadata": {},
   "source": [
    "NOTE: The order of the assigned tasks have been rearranged to help the flow of the answer: \n",
    "\n",
    "## Explain any relevant terminology such as the terms quartile and percentile"
   ]
  },
  {
   "cell_type": "markdown",
   "metadata": {},
   "source": [
    "- **BOXPLOT**: dictionary.com defines it as \"a graphic representation of a distribution by a rectangle, the ends of which mark the maximum and minimum values, and in which the median and first and third quartiles are marked by lines parallel to the ends.\" \n",
    "\n",
    "\n",
    "- **MINIMUM**: the lowest data value\n",
    "\n",
    "\n",
    "- **MAXIMUM**: the highest data value\n",
    "\n",
    "\n",
    "- **MEDIAN<sup>1</sup>**: the \"middle\" data point based on the number of data points above it and below it e.g. the median of the following data set is 3 as it is the middle value whent he list is arranged in increasing order  [1,2,3,6,6] NOTE: Should the median be between 2 numbers e.g. [1, 2, 2, 3, 6, 6], the average of 2 and 3 is therefore the median i.e. 2.5\n",
    "\n",
    "\n",
    "- **1st QUARTILE<sup>1</sup> (Q1)**: is the median of the data values between the lowest data value and the median (usually not including the median itself) \n",
    "\n",
    "\n",
    "- **3rd QUARTILE<sup>1</sup> (Q3)**: is the median of the data values between the highest data value and the median (usually not including the median itself)\n",
    "\n",
    "\n",
    "- **INTERQUARTILE RANGE<sup>3</sup>**: the range of values between the 1st Quartile and the 3rd Quartile. The length of the box therefore represents the interquartile range.\n",
    "\n",
    "\n",
    "- **OUTLIERS<sup>3</sup>**: A value that is at the extreme end of a data set, which is affecting the overall dataset as it is either very small or large. In general, any data not included between the whiskers or on the box, is plotted as an outlier with an asterix symbol. \n",
    "\n",
    "\n",
    "- **FIVE-NUMBER SUMMARY**<sup>4</sup>: a summary term for the minimum, maximum, median, Q1 and Q3. \n",
    "\n",
    "The terms are best displayed visually below<sup>2</sup>\n",
    "\n",
    "![alt text](https://pro.arcgis.com/en/pro-app/help/analysis/geoprocessing/charts/GUID-0E2C3730-C535-40CD-8152-80D794A996A7-web.png)\n",
    "\n"
   ]
  },
  {
   "cell_type": "markdown",
   "metadata": {},
   "source": [
    "## Summarise the history of the box plot and situations in which it used"
   ]
  },
  {
   "cell_type": "markdown",
   "metadata": {},
   "source": [
    "The box plot is a useful method of representing data where you wish to visualise the spread of data. Boxplots also highlight the median of the data as well as the upper and lower quartiles <sup>1</sup>. The box part of the plot aims to capture the data points between Q1 and Q3 i.e. the middle 50% of the data values. While the \"whiskers\" at either end aim to show the range of the lowest and highest quarters of data values. The finished product allows the user to see where the bulk of the data is and how wide a range it actually extends to. \n",
    "\n",
    "The \"boxplot\" title is credited to John Tukey in the 1970's and they are now considered a \"standard statistical graph\" across numerous applications<sup>5</sup>. \n",
    "\n",
    "\n",
    "\n",
    "\n"
   ]
  },
  {
   "cell_type": "markdown",
   "metadata": {},
   "source": [
    "## 2. Demonstrate the use of the box plot using data of your choosing"
   ]
  },
  {
   "cell_type": "markdown",
   "metadata": {},
   "source": [
    "the below data set comes from UNICEF where they make a number of data sets freely available to the public. This data is a set with 17727 rows where the columns have been reduced to simplify the data and focus on certain atributes. \n",
    "\n",
    "relates to the immunisation coverage for countries from the late 1970's up to 2016. NOTE: not all countries have data for every year.  "
   ]
  },
  {
   "cell_type": "code",
   "execution_count": 127,
   "metadata": {
    "scrolled": true
   },
   "outputs": [
    {
     "data": {
      "text/html": [
       "<div>\n",
       "<style scoped>\n",
       "    .dataframe tbody tr th:only-of-type {\n",
       "        vertical-align: middle;\n",
       "    }\n",
       "\n",
       "    .dataframe tbody tr th {\n",
       "        vertical-align: top;\n",
       "    }\n",
       "\n",
       "    .dataframe thead th {\n",
       "        text-align: right;\n",
       "    }\n",
       "</style>\n",
       "<table border=\"1\" class=\"dataframe\">\n",
       "  <thead>\n",
       "    <tr style=\"text-align: right;\">\n",
       "      <th></th>\n",
       "      <th>cohortYear</th>\n",
       "      <th>coverage</th>\n",
       "    </tr>\n",
       "  </thead>\n",
       "  <tbody>\n",
       "    <tr>\n",
       "      <th>count</th>\n",
       "      <td>26435.000000</td>\n",
       "      <td>26423.000000</td>\n",
       "    </tr>\n",
       "    <tr>\n",
       "      <th>mean</th>\n",
       "      <td>2003.938226</td>\n",
       "      <td>61.357643</td>\n",
       "    </tr>\n",
       "    <tr>\n",
       "      <th>std</th>\n",
       "      <td>8.791207</td>\n",
       "      <td>28.950799</td>\n",
       "    </tr>\n",
       "    <tr>\n",
       "      <th>min</th>\n",
       "      <td>1977.000000</td>\n",
       "      <td>0.000000</td>\n",
       "    </tr>\n",
       "    <tr>\n",
       "      <th>25%</th>\n",
       "      <td>1997.000000</td>\n",
       "      <td>37.500000</td>\n",
       "    </tr>\n",
       "    <tr>\n",
       "      <th>50%</th>\n",
       "      <td>2006.000000</td>\n",
       "      <td>67.900000</td>\n",
       "    </tr>\n",
       "    <tr>\n",
       "      <th>75%</th>\n",
       "      <td>2011.000000</td>\n",
       "      <td>87.100000</td>\n",
       "    </tr>\n",
       "    <tr>\n",
       "      <th>max</th>\n",
       "      <td>2016.000000</td>\n",
       "      <td>100.000000</td>\n",
       "    </tr>\n",
       "  </tbody>\n",
       "</table>\n",
       "</div>"
      ],
      "text/plain": [
       "         cohortYear      coverage\n",
       "count  26435.000000  26423.000000\n",
       "mean    2003.938226     61.357643\n",
       "std        8.791207     28.950799\n",
       "min     1977.000000      0.000000\n",
       "25%     1997.000000     37.500000\n",
       "50%     2006.000000     67.900000\n",
       "75%     2011.000000     87.100000\n",
       "max     2016.000000    100.000000"
      ]
     },
     "execution_count": 127,
     "metadata": {},
     "output_type": "execute_result"
    }
   ],
   "source": [
    "import matplotlib.pyplot as plt\n",
    "import pandas as pd\n",
    "import numpy as np\n",
    "\n",
    "#Source: https://data.unicef.org/resources/dataset/immunization/\n",
    "df = pd.read_csv(\"https://raw.githubusercontent.com/eimearbutler7/FundamentalsDA_Project/master/immunization_coverage_survey_data-2.csv\")\n",
    "df.describe(exclude=[np.object])  #source: https://pandas.pydata.org/pandas-docs/stable/generated/pandas.DataFrame.describe.html"
   ]
  },
  {
   "cell_type": "code",
   "execution_count": 150,
   "metadata": {
    "scrolled": false
   },
   "outputs": [
    {
     "data": {
      "text/html": [
       "<div>\n",
       "<style scoped>\n",
       "    .dataframe tbody tr th:only-of-type {\n",
       "        vertical-align: middle;\n",
       "    }\n",
       "\n",
       "    .dataframe tbody tr th {\n",
       "        vertical-align: top;\n",
       "    }\n",
       "\n",
       "    .dataframe thead th {\n",
       "        text-align: right;\n",
       "    }\n",
       "</style>\n",
       "<table border=\"1\" class=\"dataframe\">\n",
       "  <thead>\n",
       "    <tr style=\"text-align: right;\">\n",
       "      <th></th>\n",
       "      <th>cohortYear</th>\n",
       "      <th>coverage</th>\n",
       "    </tr>\n",
       "  </thead>\n",
       "  <tbody>\n",
       "    <tr>\n",
       "      <th>count</th>\n",
       "      <td>30.000000</td>\n",
       "      <td>30.000000</td>\n",
       "    </tr>\n",
       "    <tr>\n",
       "      <th>mean</th>\n",
       "      <td>2000.600000</td>\n",
       "      <td>62.656667</td>\n",
       "    </tr>\n",
       "    <tr>\n",
       "      <th>std</th>\n",
       "      <td>7.636573</td>\n",
       "      <td>16.348230</td>\n",
       "    </tr>\n",
       "    <tr>\n",
       "      <th>min</th>\n",
       "      <td>1989.000000</td>\n",
       "      <td>25.900000</td>\n",
       "    </tr>\n",
       "    <tr>\n",
       "      <th>25%</th>\n",
       "      <td>1996.000000</td>\n",
       "      <td>54.300000</td>\n",
       "    </tr>\n",
       "    <tr>\n",
       "      <th>50%</th>\n",
       "      <td>1999.500000</td>\n",
       "      <td>66.550000</td>\n",
       "    </tr>\n",
       "    <tr>\n",
       "      <th>75%</th>\n",
       "      <td>2005.000000</td>\n",
       "      <td>72.950000</td>\n",
       "    </tr>\n",
       "    <tr>\n",
       "      <th>max</th>\n",
       "      <td>2014.000000</td>\n",
       "      <td>92.600000</td>\n",
       "    </tr>\n",
       "  </tbody>\n",
       "</table>\n",
       "</div>"
      ],
      "text/plain": [
       "        cohortYear   coverage\n",
       "count    30.000000  30.000000\n",
       "mean   2000.600000  62.656667\n",
       "std       7.636573  16.348230\n",
       "min    1989.000000  25.900000\n",
       "25%    1996.000000  54.300000\n",
       "50%    1999.500000  66.550000\n",
       "75%    2005.000000  72.950000\n",
       "max    2014.000000  92.600000"
      ]
     },
     "execution_count": 150,
     "metadata": {},
     "output_type": "execute_result"
    }
   ],
   "source": [
    "df1 = df.loc[(df['vaccine'] == 'Pol3') & (df['ISO3'] == 'IND')] #soucre: https://stackoverflow.com/questions/22086116/how-do-you-filter-pandas-dataframes-by-multiple-columns\n",
    "#now we have the coverage data for the Pol3 vaccine in India \n",
    "df1.describe(exclude=[np.object]) "
   ]
  },
  {
   "cell_type": "code",
   "execution_count": 165,
   "metadata": {},
   "outputs": [
    {
     "data": {
      "text/plain": [
       "{'whiskers': [<matplotlib.lines.Line2D at 0xd537a58>,\n",
       "  <matplotlib.lines.Line2D at 0xd537da0>],\n",
       " 'caps': [<matplotlib.lines.Line2D at 0xd543128>,\n",
       "  <matplotlib.lines.Line2D at 0xd543470>],\n",
       " 'boxes': [<matplotlib.lines.Line2D at 0xd537908>],\n",
       " 'medians': [<matplotlib.lines.Line2D at 0xd5437b8>],\n",
       " 'fliers': [<matplotlib.lines.Line2D at 0xd543e48>],\n",
       " 'means': [<matplotlib.lines.Line2D at 0xd543b00>]}"
      ]
     },
     "execution_count": 165,
     "metadata": {},
     "output_type": "execute_result"
    },
    {
     "data": {
      "image/png": "[encoded data removed]",
      "text/plain": [
       "<Figure size 432x288 with 1 Axes>"
      ]
     },
     "metadata": {},
     "output_type": "display_data"
    }
   ],
   "source": [
    "c_array = df1[\"coverage\"].values #convert the dataframe column back into an array so it can be fed into a boxplot function\n",
    "plt.boxplot(c_array, 0, 'rs', 0, meanline=True, showmeans=True) #plot vaccine in a boxplot coverage to see spread of data over the years 2000 - 2013 \n",
    "\n",
    "#soucre: https://matplotlib.org/examples/pylab_examples/boxplot_demo.html"
   ]
  },
  {
   "cell_type": "markdown",
   "metadata": {},
   "source": [
    "The above boxplot is an example of the implementation of the most simple form of the boxplot. We can see that the figure of 25.9 has been determined to be an outlier and has been highlighted here in green. A green dotted line in the box also shows us where the mean of the sample lies. "
   ]
  },
  {
   "cell_type": "code",
   "execution_count": 215,
   "metadata": {},
   "outputs": [
    {
     "data": {
      "image/png": "[encoded data removed]",
      "text/plain": [
       "<Figure size 432x288 with 1 Axes>"
      ]
     },
     "metadata": {},
     "output_type": "display_data"
    }
   ],
   "source": [
    "df2 = df.loc[(df['vaccine'] == 'Pol3') & (df['ISO3'] == 'IRQ')] #lets now pull the same data for Iraq and compare\n",
    "c_array2 = df2[\"coverage\"].values #convert the dataframe column back into an array so it can be fed into a boxplot function\n",
    "df3 = df.loc[(df['vaccine'] == 'Pol3') & (df['ISO3'] == 'KEN')] #Lets also pull some for Kenya and add it to the overall plot\n",
    "c_array3 = df3[\"coverage\"].values #convert the dataframe column back into an array so it can be fed into a boxplot function\n",
    "\n",
    "\n",
    "plt.boxplot([c_array, c_array2, c_array3], 0, 'rs', 0) #plot vaccine in a boxplot coverage to see spread of data over the years 2000 - 2013 \n",
    "\n",
    "plt.show()"
   ]
  },
  {
   "cell_type": "markdown",
   "metadata": {},
   "source": [
    "The above box plots now allow us to compare vaccine coverage in Kenya (1), Iraq (2) and India (3) over time, including their median point and itnerquartile range. "
   ]
  },
  {
   "cell_type": "code",
   "execution_count": 160,
   "metadata": {},
   "outputs": [
    {
     "data": {
      "text/plain": [
       "{'whiskers': [<matplotlib.lines.Line2D at 0xae0e860>,\n",
       "  <matplotlib.lines.Line2D at 0xae0eba8>,\n",
       "  <matplotlib.lines.Line2D at 0xae23f98>,\n",
       "  <matplotlib.lines.Line2D at 0xae20320>,\n",
       "  <matplotlib.lines.Line2D at 0xae14710>,\n",
       "  <matplotlib.lines.Line2D at 0xae14a58>],\n",
       " 'caps': [<matplotlib.lines.Line2D at 0xae0eef0>,\n",
       "  <matplotlib.lines.Line2D at 0xae23278>,\n",
       "  <matplotlib.lines.Line2D at 0xae20668>,\n",
       "  <matplotlib.lines.Line2D at 0xae209b0>,\n",
       "  <matplotlib.lines.Line2D at 0xae14da0>,\n",
       "  <matplotlib.lines.Line2D at 0xc3b3128>],\n",
       " 'boxes': [<matplotlib.lines.Line2D at 0xae0e710>,\n",
       "  <matplotlib.lines.Line2D at 0xae23c18>,\n",
       "  <matplotlib.lines.Line2D at 0xae14390>],\n",
       " 'medians': [<matplotlib.lines.Line2D at 0xae235c0>,\n",
       "  <matplotlib.lines.Line2D at 0xae20cf8>,\n",
       "  <matplotlib.lines.Line2D at 0xc3b3470>],\n",
       " 'fliers': [<matplotlib.lines.Line2D at 0xae23908>,\n",
       "  <matplotlib.lines.Line2D at 0xae14080>,\n",
       "  <matplotlib.lines.Line2D at 0xc3b37b8>],\n",
       " 'means': []}"
      ]
     },
     "execution_count": 160,
     "metadata": {},
     "output_type": "execute_result"
    },
    {
     "data": {
      "image/png": "[encoded data removed]",
      "text/plain": [
       "<Figure size 432x288 with 1 Axes>"
      ]
     },
     "metadata": {},
     "output_type": "display_data"
    }
   ],
   "source": [
    "# the next plot we can show is a notched plot\n",
    "plt.boxplot([c_array, c_array2, c_array3], 1, 'rs', 0) #source: https://matplotlib.org/gallery/pyplots/boxplot_demo_pyplot.html#sphx-glr-gallery-pyplots-boxplot-demo-pyplot-py"
   ]
  },
  {
   "cell_type": "markdown",
   "metadata": {},
   "source": [
    "The notch is a very interesting addition to the box as it displays the confidence interval for the median. The following diagram<sup>6</sup> demonstrates this relationship: \n",
    "\n",
    "<img src='https://i.stack.imgur.com/urPEC.jpg' width=\"600\" height=\"350\">\n"
   ]
  },
  {
   "cell_type": "markdown",
   "metadata": {},
   "source": [
    "Changing whisker Length and removal of outliers is also possible. "
   ]
  },
  {
   "cell_type": "code",
   "execution_count": 216,
   "metadata": {
    "scrolled": true
   },
   "outputs": [
    {
     "data": {
      "image/png": "[encoded data removed]",
      "text/plain": [
       "<Figure size 432x288 with 1 Axes>"
      ]
     },
     "metadata": {},
     "output_type": "display_data"
    }
   ],
   "source": [
    "fig, ax1 = plt.subplots() #plot the boxplot as pubplots to allow the addition of labels below\n",
    "\n",
    "bp = plt.boxplot([c_array, c_array2, c_array3], 1, 'rs', 0, whis=0.75, showfliers=False) \n",
    "#The critical code here being the \"whis=0.75\" changing the length of the whiskers to 75% and \"showfliers=False\" removing the outliers \n",
    "\n",
    "ax1.set_title('Vaccine Coverage in 3 Countries') #set titles \n",
    "ax1.set_xlabel('Coverage') #set x label\n",
    "ax1.set_ylabel('Country')#set y label\n",
    "\n",
    "plt.show()\n"
   ]
  },
  {
   "cell_type": "markdown",
   "metadata": {},
   "source": [
    "## 4. Compare the box plot to alternatives"
   ]
  },
  {
   "cell_type": "markdown",
   "metadata": {},
   "source": [
    "A challenge with the boxplot is that it does not display density of the data at any point and therefore could be misleading. "
   ]
  },
  {
   "cell_type": "code",
   "execution_count": null,
   "metadata": {
    "scrolled": false
   },
   "outputs": [],
   "source": [
    "den = [2, 2, 2, 2, 2, 3, 4, 4, 5, 5, 6, 7, 7, 7, 8, 8, 8, 9, 11, 12, 12, 12, 12, 12, 12]\n",
    "plt.boxplot(den) #this boxplot looks reasonably distributed but in fact, as wil will see on the next graph, a signifiacnt number of values are actually in the \"whiskers\".\n",
    "\n",
    "#Source: https://matplotlib.org/api/_as_gen/matplotlib.pyplot.boxplot.html"
   ]
  },
  {
   "cell_type": "code",
   "execution_count": null,
   "metadata": {
    "scrolled": true
   },
   "outputs": [],
   "source": [
    "plt.hist(den) #plot histogram to show that a signifiacnt number of values are actually in the \"whiskers\".\n",
    "\n",
    "#Source: https://matplotlib.org/api/_as_gen/matplotlib.pyplot.hist.html"
   ]
  },
  {
   "cell_type": "markdown",
   "metadata": {},
   "source": [
    "beeswarm\n",
    "pirate plot\n",
    "violon plots"
   ]
  },
  {
   "cell_type": "markdown",
   "metadata": {},
   "source": [
    "## References "
   ]
  },
  {
   "cell_type": "markdown",
   "metadata": {},
   "source": [
    "1. https://www.khanacademy.org/math/probability/data-distributions-a1/box--whisker-plots-a1/v/constructing-a-box-and-whisker-plot\n",
    "2. https://pro.arcgis.com/en/pro-app/help/analysis/geoprocessing/charts/box-plot.htm\n",
    "3. https://www.whatissixsigma.net/box-plot-diagram-to-identify-outliers/\n",
    "4. https://www.khanacademy.org/math/statistics-probability/summarizing-quantitative-data/box-whisker-plots/a/box-plot-review\n",
    "5. https://www.stata-journal.com/sjpdf.html?articlenum=gr0039\n",
    "6. https://stackoverflow.com/questions/38794406/why-is-matplotlibs-notched-boxplot-folding-back-on-itself"
   ]
  },
  {
   "cell_type": "markdown",
   "metadata": {
    "scrolled": false
   },
   "source": [
    "## Back up "
   ]
  },
  {
   "cell_type": "code",
   "execution_count": 199,
   "metadata": {},
   "outputs": [
    {
     "data": {
      "text/plain": [
       "{'whiskers': [<matplotlib.lines.Line2D at 0xeff42e8>,\n",
       "  <matplotlib.lines.Line2D at 0xeff4630>,\n",
       "  <matplotlib.lines.Line2D at 0xefffa20>,\n",
       "  <matplotlib.lines.Line2D at 0xefffd68>,\n",
       "  <matplotlib.lines.Line2D at 0xf015198>,\n",
       "  <matplotlib.lines.Line2D at 0xf0154e0>],\n",
       " 'caps': [<matplotlib.lines.Line2D at 0xeff4978>,\n",
       "  <matplotlib.lines.Line2D at 0xeff4cc0>,\n",
       "  <matplotlib.lines.Line2D at 0xf00a0f0>,\n",
       "  <matplotlib.lines.Line2D at 0xf00a438>,\n",
       "  <matplotlib.lines.Line2D at 0xf015828>,\n",
       "  <matplotlib.lines.Line2D at 0xf015b70>],\n",
       " 'boxes': [<matplotlib.lines.Line2D at 0xeff4198>,\n",
       "  <matplotlib.lines.Line2D at 0xefff6a0>,\n",
       "  <matplotlib.lines.Line2D at 0xf00add8>],\n",
       " 'medians': [<matplotlib.lines.Line2D at 0xefff048>,\n",
       "  <matplotlib.lines.Line2D at 0xf00a780>,\n",
       "  <matplotlib.lines.Line2D at 0xf015eb8>],\n",
       " 'fliers': [<matplotlib.lines.Line2D at 0xefff390>,\n",
       "  <matplotlib.lines.Line2D at 0xf00aac8>,\n",
       "  <matplotlib.lines.Line2D at 0xf01e240>],\n",
       " 'means': []}"
      ]
     },
     "execution_count": 199,
     "metadata": {},
     "output_type": "execute_result"
    },
    {
     "data": {
      "image/png": "[encoded data removed]",
      "text/plain": [
       "<Figure size 432x288 with 1 Axes>"
      ]
     },
     "metadata": {},
     "output_type": "display_data"
    }
   ],
   "source": [
    "data = [c_array, c_array2, c_array3]\n",
    "plt.boxplot(data, 1, 'rs', 0, whis=1.5)"
   ]
  },
  {
   "cell_type": "code",
   "execution_count": 200,
   "metadata": {},
   "outputs": [
    {
     "data": {
      "text/plain": [
       "{'whiskers': [<matplotlib.lines.Line2D at 0xda60be0>,\n",
       "  <matplotlib.lines.Line2D at 0xda606a0>,\n",
       "  <matplotlib.lines.Line2D at 0xda8eb00>,\n",
       "  <matplotlib.lines.Line2D at 0xda8e400>,\n",
       "  <matplotlib.lines.Line2D at 0xdac3278>,\n",
       "  <matplotlib.lines.Line2D at 0xda7d8d0>],\n",
       " 'caps': [<matplotlib.lines.Line2D at 0xda60278>,\n",
       "  <matplotlib.lines.Line2D at 0xda94fd0>,\n",
       "  <matplotlib.lines.Line2D at 0xda8e780>,\n",
       "  <matplotlib.lines.Line2D at 0xda8e358>,\n",
       "  <matplotlib.lines.Line2D at 0xda7d390>,\n",
       "  <matplotlib.lines.Line2D at 0xda7d908>],\n",
       " 'boxes': [<matplotlib.lines.Line2D at 0xda60cf8>,\n",
       "  <matplotlib.lines.Line2D at 0xda94048>,\n",
       "  <matplotlib.lines.Line2D at 0xdac3a90>],\n",
       " 'medians': [<matplotlib.lines.Line2D at 0xda94630>,\n",
       "  <matplotlib.lines.Line2D at 0xdac3c88>,\n",
       "  <matplotlib.lines.Line2D at 0xda7d4e0>],\n",
       " 'fliers': [],\n",
       " 'means': []}"
      ]
     },
     "execution_count": 200,
     "metadata": {},
     "output_type": "execute_result"
    },
    {
     "data": {
      "image/png": "[encoded data removed]",
      "text/plain": [
       "<Figure size 432x288 with 1 Axes>"
      ]
     },
     "metadata": {},
     "output_type": "display_data"
    }
   ],
   "source": [
    "data = [c_array, c_array2, c_array3]\n",
    "plt.boxplot(data, 1, 'rs', 0, showfliers=False) #\n",
    "\n",
    "\n"
   ]
  },
  {
   "cell_type": "code",
   "execution_count": null,
   "metadata": {},
   "outputs": [],
   "source": [
    "data = [c_array, c_array2, c_array3]\n",
    "\n",
    "fig, ax1 = plt.subplots(nrows=1, ncols=2)\n",
    "\n",
    "axes[0, 0]plt.boxplot(data, 1, 'rs', 0, showfliers=False)\n",
    "axes[0, 0]plt.set_title('No Outliers Shown', fontsize=fs)"
   ]
  },
  {
   "cell_type": "code",
   "execution_count": 211,
   "metadata": {
    "scrolled": true
   },
   "outputs": [
    {
     "ename": "TypeError",
     "evalue": "'function' object does not support item assignment",
     "output_type": "error",
     "traceback": [
      "\u001b[1;31m---------------------------------------------------------------------------\u001b[0m",
      "\u001b[1;31mTypeError\u001b[0m                                 Traceback (most recent call last)",
      "\u001b[1;32m<ipython-input-211-db0441e94cb7>\u001b[0m in \u001b[0;36m<module>\u001b[1;34m\u001b[0m\n\u001b[0;32m      3\u001b[0m \u001b[0mplt\u001b[0m\u001b[1;33m.\u001b[0m\u001b[0msubplots\u001b[0m\u001b[1;33m(\u001b[0m\u001b[0mnrows\u001b[0m\u001b[1;33m=\u001b[0m\u001b[1;36m1\u001b[0m\u001b[1;33m,\u001b[0m \u001b[0mncols\u001b[0m\u001b[1;33m=\u001b[0m\u001b[1;36m2\u001b[0m\u001b[1;33m)\u001b[0m\u001b[1;33m\u001b[0m\u001b[0m\n\u001b[0;32m      4\u001b[0m \u001b[1;33m\u001b[0m\u001b[0m\n\u001b[1;32m----> 5\u001b[1;33m \u001b[0maxes\u001b[0m\u001b[1;33m[\u001b[0m\u001b[1;36m0\u001b[0m\u001b[1;33m,\u001b[0m \u001b[1;36m0\u001b[0m\u001b[1;33m]\u001b[0m \u001b[1;33m=\u001b[0m \u001b[0mboxplot\u001b[0m\u001b[1;33m(\u001b[0m\u001b[0mdata\u001b[0m\u001b[1;33m,\u001b[0m \u001b[1;36m1\u001b[0m\u001b[1;33m,\u001b[0m \u001b[1;34m'rs'\u001b[0m\u001b[1;33m,\u001b[0m \u001b[1;36m0\u001b[0m\u001b[1;33m,\u001b[0m \u001b[0mshowfliers\u001b[0m\u001b[1;33m=\u001b[0m\u001b[1;32mFalse\u001b[0m\u001b[1;33m)\u001b[0m\u001b[1;33m\u001b[0m\u001b[0m\n\u001b[0m\u001b[0;32m      6\u001b[0m \u001b[0maxes\u001b[0m\u001b[1;33m[\u001b[0m\u001b[1;36m0\u001b[0m\u001b[1;33m,\u001b[0m \u001b[1;36m0\u001b[0m\u001b[1;33m]\u001b[0m \u001b[1;33m=\u001b[0m \u001b[0mset_title\u001b[0m\u001b[1;33m(\u001b[0m\u001b[1;34m'No Outliers Shown'\u001b[0m\u001b[1;33m,\u001b[0m \u001b[0mfontsize\u001b[0m\u001b[1;33m=\u001b[0m\u001b[0mfs\u001b[0m\u001b[1;33m)\u001b[0m\u001b[1;33m\u001b[0m\u001b[0m\n\u001b[0;32m      7\u001b[0m \u001b[1;33m\u001b[0m\u001b[0m\n",
      "\u001b[1;31mTypeError\u001b[0m: 'function' object does not support item assignment"
     ]
    },
    {
     "data": {
      "image/png": "[encoded data removed]",
      "text/plain": [
       "<Figure size 432x288 with 2 Axes>"
      ]
     },
     "metadata": {},
     "output_type": "display_data"
    }
   ],
   "source": [
    "data = [c_array, c_array2, c_array3]\n",
    "\n",
    "plt.subplots(nrows=1, ncols=2)\n",
    "\n",
    "axes[0, 0] = boxplot(data, 1, 'rs', 0, showfliers=False)\n",
    "axes[0, 0] = set_title('No Outliers Shown', fontsize=fs)\n",
    "\n",
    "axes[0, 1] = boxplot(data, 1, 'rs', 0, whis=0.75)\n",
    "axes[0, 1] = set_title('Shorten Whisker Length', fontsize=fs)\n",
    "\n",
    "plt.show()\n",
    "\n",
    "\n",
    "#sources: combination of https://matplotlib.org/examples/statistics/boxplot_demo.html and \n",
    "#https://matplotlib.org/gallery/pyplots/boxplot_demo_pyplot.html#sphx-glr-gallery-pyplots-boxplot-demo-pyplot-py"
   ]
  },
  {
   "cell_type": "code",
   "execution_count": 166,
   "metadata": {},
   "outputs": [
    {
     "ename": "NameError",
     "evalue": "name 'ax4' is not defined",
     "output_type": "error",
     "traceback": [
      "\u001b[1;31m---------------------------------------------------------------------------\u001b[0m",
      "\u001b[1;31mNameError\u001b[0m                                 Traceback (most recent call last)",
      "\u001b[1;32m<ipython-input-166-0541163956a9>\u001b[0m in \u001b[0;36m<module>\u001b[1;34m\u001b[0m\n\u001b[0;32m      1\u001b[0m \u001b[0mfig1\u001b[0m\u001b[1;33m,\u001b[0m \u001b[0max1\u001b[0m \u001b[1;33m=\u001b[0m \u001b[0mplt\u001b[0m\u001b[1;33m.\u001b[0m\u001b[0msubplots\u001b[0m\u001b[1;33m(\u001b[0m\u001b[1;33m)\u001b[0m\u001b[1;33m\u001b[0m\u001b[0m\n\u001b[0;32m      2\u001b[0m \u001b[0max1\u001b[0m\u001b[1;33m.\u001b[0m\u001b[0mset_title\u001b[0m\u001b[1;33m(\u001b[0m\u001b[1;34m'Hide Outlier Points'\u001b[0m\u001b[1;33m)\u001b[0m\u001b[1;33m\u001b[0m\u001b[0m\n\u001b[1;32m----> 3\u001b[1;33m \u001b[0max4\u001b[0m\u001b[1;33m.\u001b[0m\u001b[0mboxplot\u001b[0m\u001b[1;33m(\u001b[0m\u001b[0mdata\u001b[0m\u001b[1;33m,\u001b[0m \u001b[0mshowfliers\u001b[0m\u001b[1;33m=\u001b[0m\u001b[1;32mFalse\u001b[0m\u001b[1;33m)\u001b[0m\u001b[1;33m\u001b[0m\u001b[0m\n\u001b[0m",
      "\u001b[1;31mNameError\u001b[0m: name 'ax4' is not defined"
     ]
    },
    {
     "data": {
      "image/png": "[encoded data removed]",
      "text/plain": [
       "<Figure size 432x288 with 1 Axes>"
      ]
     },
     "metadata": {},
     "output_type": "display_data"
    }
   ],
   "source": [
    "fig1, ax1 = plt.subplots()\n",
    "ax1.set_title('Hide Outlier Points')\n",
    "ax4.boxplot(data, showfliers=False)"
   ]
  }
 ],
 "metadata": {
  "kernelspec": {
   "display_name": "Python 3",
   "language": "python",
   "name": "python3"
  },
  "language_info": {
   "codemirror_mode": {
    "name": "ipython",
    "version": 3
   },
   "file_extension": ".py",
   "mimetype": "text/x-python",
   "name": "python",
   "nbconvert_exporter": "python",
   "pygments_lexer": "ipython3",
   "version": "3.6.5"
  }
 },
 "nbformat": 4,
 "nbformat_minor": 2
}
